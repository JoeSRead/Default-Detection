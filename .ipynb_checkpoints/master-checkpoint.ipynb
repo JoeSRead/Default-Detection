{
 "cells": [
  {
   "cell_type": "code",
   "execution_count": 87,
   "metadata": {
    "scrolled": true
   },
   "outputs": [
    {
     "name": "stdout",
     "output_type": "stream",
     "text": [
      "The autoreload extension is already loaded. To reload it, use:\n",
      "  %reload_ext autoreload\n"
     ]
    }
   ],
   "source": [
    "import pandas as pd\n",
    "import numpy as np\n",
    "from sklearn.decomposition import PCA\n",
    "from sklearn.pipeline import Pipeline\n",
    "from sklearn.decomposition import PCA\n",
    "from sklearn.preprocessing import StandardScaler, MinMaxScaler\n",
    "from sklearn.linear_model import LogisticRegression\n",
    "from sklearn.neighbors import KNeighborsClassifier\n",
    "from sklearn.svm import SVC\n",
    "from sklearn.model_selection import GridSearchCV, train_test_split\n",
    "from scipy.stats import boxcox\n",
    "\n",
    "from sklearn.metrics import auc, roc_auc_score, roc_curve\n",
    "from sklearn.metrics import classification_report\n",
    "from sklearn.metrics import confusion_matrix\n",
    "from sklearn.metrics import precision_recall_curve\n",
    "\n",
    "from sklearn.ensemble import RandomForestClassifier\n",
    "from imblearn.over_sampling import SMOTE\n",
    "\n",
    "import matplotlib.pyplot as plt\n",
    "import seaborn as sns\n",
    "from sklearn.externals.six import StringIO\n",
    "from IPython.display import Image  \n",
    "from sklearn.tree import export_graphviz\n",
    "import pydotplus\n",
    "\n",
    "sns.set()\n",
    "\n",
    "random_state = 137 # Joe is a physician.\n",
    "\n",
    "%load_ext autoreload\n",
    "%autoreload 2\n",
    "%matplotlib inline\n",
    "\n",
    "import library as lib"
   ]
  },
  {
   "cell_type": "markdown",
   "metadata": {},
   "source": [
    "## Reading and Cleaning"
   ]
  },
  {
   "cell_type": "code",
   "execution_count": 76,
   "metadata": {},
   "outputs": [],
   "source": [
    "df = pd.read_excel('default of credit card clients.xls', skiprows=1, index_col='ID')\n",
    "df.rename({'default payment next month': 'default'}, axis=1, inplace=True)"
   ]
  },
  {
   "cell_type": "code",
   "execution_count": 77,
   "metadata": {},
   "outputs": [],
   "source": [
    "# Combine other small categories  \n",
    "df.loc[(df.EDUCATION == 5) | (df.EDUCATION == 6) | (df.EDUCATION == 0), 'EDUCATION'] = 4"
   ]
  },
  {
   "cell_type": "code",
   "execution_count": 78,
   "metadata": {},
   "outputs": [],
   "source": [
    "# Combine to have 1:married, 2:single, 3:other\n",
    "df.loc[df.MARRIAGE == 0, 'MARRIAGE'] = 3"
   ]
  },
  {
   "cell_type": "code",
   "execution_count": 79,
   "metadata": {},
   "outputs": [],
   "source": [
    "df.rename({'PAY_0': 'pay_stat_sep', 'PAY_2': 'pay_stat_aug', 'PAY_3': 'pay_stat_jul', 'PAY_4': 'pay_stat_jun', 'PAY_5': \n",
    "           'pay_stat_may', 'PAY_6': 'pay_stat_apr'}, axis=1, inplace=True)"
   ]
  },
  {
   "cell_type": "code",
   "execution_count": 80,
   "metadata": {},
   "outputs": [],
   "source": [
    "for col in df.columns:\n",
    "    df.rename({'{}'.format(col): '{}'.format(col.lower())}, axis=1, inplace=True)"
   ]
  },
  {
   "cell_type": "markdown",
   "metadata": {},
   "source": [
    "## EDA"
   ]
  },
  {
   "cell_type": "code",
   "execution_count": 81,
   "metadata": {},
   "outputs": [
    {
     "data": {
      "image/png": "[encoded data removed]",
      "text/plain": [
       "<Figure size 432x288 with 1 Axes>"
      ]
     },
     "metadata": {
      "needs_background": "light"
     },
     "output_type": "display_data"
    }
   ],
   "source": [
    "p1 = plt.bar(\n",
    "    ['Male', 'Female'],\n",
    "    [df.default.loc[df['sex']==1].value_counts()[1]/sum(df['sex']==1), \n",
    "     df.default.loc[df['sex']==2].value_counts()[1]/sum(df['sex']==2)], \n",
    "    color='r', width=0.3)\n",
    "\n",
    "plt.title(\"Defaults by Sex\")\n",
    "plt.ylabel('Number of Defaults')\n",
    "plt.xlabel('Sex')\n",
    "plt.show()"
   ]
  },
  {
   "cell_type": "code",
   "execution_count": 8,
   "metadata": {},
   "outputs": [
    {
     "data": {
      "text/plain": [
       "Text(0.5, 1.0, 'Percentage Defaults by Education Status')"
      ]
     },
     "execution_count": 8,
     "metadata": {},
     "output_type": "execute_result"
    },
    {
     "data": {
      "image/png": "[encoded data removed]",
      "text/plain": [
       "<Figure size 432x288 with 1 Axes>"
      ]
     },
     "metadata": {
      "needs_background": "light"
     },
     "output_type": "display_data"
    }
   ],
   "source": [
    "education_df = df.groupby(['education', 'default']).size()\n",
    "nums = []\n",
    "for i in range(1,5):\n",
    "    values = []\n",
    "    for j in range(0,2):\n",
    "        if j == 0:\n",
    "            values.append(education_df[i][j]/(education_df[i][j] + education_df[i][j+1]))\n",
    "        if j == 1:\n",
    "            values.append(education_df[i][j]/(education_df[i][j] + education_df[i][j-1]))\n",
    "    nums.append(values)  \n",
    "edu_defaults = [x[1] for x in nums]\n",
    "plt.bar(['Graduate', 'Bachelor', 'Highschool', 'Other'], edu_defaults);\n",
    "plt.title('Percentage Defaults by Education Status')"
   ]
  },
  {
   "cell_type": "code",
   "execution_count": null,
   "metadata": {},
   "outputs": [],
   "source": []
  },
  {
   "cell_type": "markdown",
   "metadata": {},
   "source": [
    "## Feature Engineerin'"
   ]
  },
  {
   "cell_type": "code",
   "execution_count": 9,
   "metadata": {},
   "outputs": [],
   "source": [
    "months = ['sep', 'aug', 'jul', 'jun', 'may', 'apr']\n",
    "for i, c in enumerate(months):\n",
    "    df[f'deferred_payment_{c}'] = np.where(df[f'pay_stat_{c}']<=0, 0, 1)"
   ]
  },
  {
   "cell_type": "code",
   "execution_count": 10,
   "metadata": {},
   "outputs": [],
   "source": [
    "df['last_month_v_limit'] = df['bill_amt1']/df['limit_bal']"
   ]
  },
  {
   "cell_type": "code",
   "execution_count": 11,
   "metadata": {},
   "outputs": [],
   "source": [
    "df = pd.get_dummies(df, columns=['marriage', 'sex', 'education'], drop_first=True)"
   ]
  },
  {
   "cell_type": "code",
   "execution_count": 12,
   "metadata": {
    "scrolled": true
   },
   "outputs": [],
   "source": [
    "for i in range(2,7):\n",
    "    df.drop(columns = [f'bill_amt{i}', f'pay_amt{i}'], axis = 1, inplace=True)\n",
    "    "
   ]
  },
  {
   "cell_type": "code",
   "execution_count": 13,
   "metadata": {},
   "outputs": [],
   "source": [
    "for month in months:\n",
    "    df.drop(columns=f'pay_stat_{month}', axis=1, inplace=True)"
   ]
  },
  {
   "cell_type": "code",
   "execution_count": 14,
   "metadata": {},
   "outputs": [
    {
     "name": "stdout",
     "output_type": "stream",
     "text": [
      "<class 'pandas.core.frame.DataFrame'>\n",
      "Int64Index: 30000 entries, 1 to 30000\n",
      "Data columns (total 18 columns):\n",
      "limit_bal               30000 non-null int64\n",
      "age                     30000 non-null int64\n",
      "bill_amt1               30000 non-null int64\n",
      "pay_amt1                30000 non-null int64\n",
      "default                 30000 non-null int64\n",
      "deferred_payment_sep    30000 non-null int64\n",
      "deferred_payment_aug    30000 non-null int64\n",
      "deferred_payment_jul    30000 non-null int64\n",
      "deferred_payment_jun    30000 non-null int64\n",
      "deferred_payment_may    30000 non-null int64\n",
      "deferred_payment_apr    30000 non-null int64\n",
      "last_month_v_limit      30000 non-null float64\n",
      "marriage_2              30000 non-null uint8\n",
      "marriage_3              30000 non-null uint8\n",
      "sex_2                   30000 non-null uint8\n",
      "education_2             30000 non-null uint8\n",
      "education_3             30000 non-null uint8\n",
      "education_4             30000 non-null uint8\n",
      "dtypes: float64(1), int64(11), uint8(6)\n",
      "memory usage: 3.1 MB\n"
     ]
    }
   ],
   "source": [
    "df.info()"
   ]
  },
  {
   "cell_type": "markdown",
   "metadata": {},
   "source": [
    "### PCA"
   ]
  },
  {
   "cell_type": "code",
   "execution_count": 20,
   "metadata": {},
   "outputs": [],
   "source": [
    "# Boxcox needs +ve non-zero data so we abs and add 1 \n",
    "# (this messes with and negative amounts owed but PCA ends up not working anyway so it doesn't matter)\n",
    "# Maybe adding the minimum value in the whole df to each value would be a work around\n",
    "\n",
    "df_pca = np.abs(df) +1\n",
    "df_TF = pd.DataFrame(index=df.index)\n",
    "for i in df_pca.columns.values:\n",
    "    df_TF[\"%s_TF\" % i] = boxcox(df_pca.loc[:, i])[0]"
   ]
  },
  {
   "cell_type": "code",
   "execution_count": 21,
   "metadata": {},
   "outputs": [
    {
     "data": {
      "image/png": "[encoded data removed]",
      "text/plain": [
       "<Figure size 792x792 with 20 Axes>"
      ]
     },
     "metadata": {
      "needs_background": "light"
     },
     "output_type": "display_data"
    }
   ],
   "source": [
    "ax = df_TF.hist(bins=50, xlabelsize=-1, ylabelsize=-1, figsize=(11,11))"
   ]
  },
  {
   "cell_type": "code",
   "execution_count": 22,
   "metadata": {},
   "outputs": [
    {
     "name": "stdout",
     "output_type": "stream",
     "text": [
      "mean:  0.0\n",
      "standard dev:  1.0\n"
     ]
    }
   ],
   "source": [
    "# Scaled to have 0 mean and sd of 1\n",
    "\n",
    "df_TF = StandardScaler().fit_transform(df_TF)\n",
    "\n",
    "print(\"mean: \", np.round(df_TF.mean(), 2))\n",
    "print(\"standard dev: \", np.round(df_TF.std(), 2))"
   ]
  },
  {
   "cell_type": "code",
   "execution_count": 23,
   "metadata": {},
   "outputs": [],
   "source": [
    "fit = PCA()\n",
    "pca = fit.fit_transform(df_TF)"
   ]
  },
  {
   "cell_type": "code",
   "execution_count": 24,
   "metadata": {},
   "outputs": [
    {
     "data": {
      "text/plain": [
       "Text(0, 0.5, 'Variance Explained')"
      ]
     },
     "execution_count": 24,
     "metadata": {},
     "output_type": "execute_result"
    },
    {
     "data": {
      "image/png": "[encoded data removed]",
      "text/plain": [
       "<Figure size 432x288 with 1 Axes>"
      ]
     },
     "metadata": {
      "needs_background": "light"
     },
     "output_type": "display_data"
    }
   ],
   "source": [
    "plt.plot(fit.explained_variance_ratio_)\n",
    "plt.title(\"Variance Explained, Given Number of Components\")\n",
    "plt.xlabel(\"Number of Eigenvectors\")\n",
    "plt.ylabel(\"Variance Explained\")"
   ]
  },
  {
   "cell_type": "code",
   "execution_count": 25,
   "metadata": {},
   "outputs": [
    {
     "data": {
      "text/plain": [
       "Text(0, 0.5, 'Total Variance Explained')"
      ]
     },
     "execution_count": 25,
     "metadata": {},
     "output_type": "execute_result"
    },
    {
     "data": {
      "image/png": "[encoded data removed]",
      "text/plain": [
       "<Figure size 432x288 with 1 Axes>"
      ]
     },
     "metadata": {
      "needs_background": "light"
     },
     "output_type": "display_data"
    }
   ],
   "source": [
    "# We see that to get a space able to explain the majority of the data we'd need almost as many axes as the base data has.\n",
    "# We therefore stop using PCA\n",
    "\n",
    "plt.plot(np.cumsum(fit.explained_variance_ratio_))\n",
    "plt.title(\"Scree plot\")\n",
    "plt.xlabel(\"Number of Eigenvectors\")\n",
    "plt.ylabel(\"Total Variance Explained\")"
   ]
  },
  {
   "cell_type": "markdown",
   "metadata": {},
   "source": [
    "## Splittin' 'n' Smotin'"
   ]
  },
  {
   "cell_type": "code",
   "execution_count": 26,
   "metadata": {},
   "outputs": [],
   "source": [
    "X = df.drop(columns='default', axis=1)\n",
    "y = df['default']\n",
    "\n",
    "X_train, X_test, y_train, y_test = train_test_split(X, y, random_state=random_state)"
   ]
  },
  {
   "cell_type": "code",
   "execution_count": 27,
   "metadata": {},
   "outputs": [],
   "source": [
    "smiter = SMOTE(random_state=random_state, n_jobs=-1)"
   ]
  },
  {
   "cell_type": "code",
   "execution_count": 28,
   "metadata": {},
   "outputs": [],
   "source": [
    "X_train_sm, y_train_sm = smiter.fit_resample(X_train, y_train)"
   ]
  },
  {
   "cell_type": "code",
   "execution_count": 29,
   "metadata": {},
   "outputs": [
    {
     "data": {
      "text/plain": [
       "(12550, 12550)"
      ]
     },
     "execution_count": 29,
     "metadata": {},
     "output_type": "execute_result"
    }
   ],
   "source": [
    "len(X_train_sm)-len(X_train), len(y_train_sm)- len(y_train)"
   ]
  },
  {
   "cell_type": "code",
   "execution_count": 30,
   "metadata": {},
   "outputs": [],
   "source": [
    "scaler= MinMaxScaler()\n",
    "\n",
    "X_train_sc = scaler.fit_transform(X_train)\n",
    "X_test_sc = scaler.transform(X_test)"
   ]
  },
  {
   "cell_type": "code",
   "execution_count": 31,
   "metadata": {},
   "outputs": [],
   "source": [
    "scaler_sm = MinMaxScaler()\n",
    "\n",
    "X_train_sm_sc = scaler_sm.fit_transform(X_train_sm)\n",
    "X_test_sm_sc = scaler_sm.transform(X_test)"
   ]
  },
  {
   "cell_type": "markdown",
   "metadata": {},
   "source": [
    "### To smote or not to smote - A logistic tale"
   ]
  },
  {
   "cell_type": "code",
   "execution_count": 32,
   "metadata": {},
   "outputs": [
    {
     "name": "stderr",
     "output_type": "stream",
     "text": [
      "//anaconda3/envs/learn-env/lib/python3.6/site-packages/sklearn/linear_model/logistic.py:432: FutureWarning: Default solver will be changed to 'lbfgs' in 0.22. Specify a solver to silence this warning.\n",
      "  FutureWarning)\n"
     ]
    },
    {
     "data": {
      "text/plain": [
       "0.760220956080267"
      ]
     },
     "execution_count": 32,
     "metadata": {},
     "output_type": "execute_result"
    },
    {
     "data": {
      "image/png": "[encoded data removed]",
      "text/plain": [
       "<Figure size 432x288 with 1 Axes>"
      ]
     },
     "metadata": {
      "needs_background": "light"
     },
     "output_type": "display_data"
    }
   ],
   "source": [
    "log_reg = LogisticRegression(random_state=random_state)\n",
    "\n",
    "log_model = log_reg.fit(X_train_sc, y_train)\n",
    "\n",
    "y_hat_log = log_model.predict_proba(X_test_sc)[:,1]\n",
    "\n",
    "\n",
    "fpr,tpr,thr = roc_curve(y_test, y_hat_log)\n",
    "\n",
    "sns.lineplot(fpr,tpr)\n",
    "\n",
    "auc(fpr, tpr)"
   ]
  },
  {
   "cell_type": "code",
   "execution_count": 33,
   "metadata": {},
   "outputs": [
    {
     "name": "stderr",
     "output_type": "stream",
     "text": [
      "//anaconda3/envs/learn-env/lib/python3.6/site-packages/sklearn/linear_model/logistic.py:432: FutureWarning: Default solver will be changed to 'lbfgs' in 0.22. Specify a solver to silence this warning.\n",
      "  FutureWarning)\n"
     ]
    },
    {
     "data": {
      "text/plain": [
       "0.763040956824706"
      ]
     },
     "execution_count": 33,
     "metadata": {},
     "output_type": "execute_result"
    },
    {
     "data": {
      "image/png": "[encoded data removed]",
      "text/plain": [
       "<Figure size 432x288 with 1 Axes>"
      ]
     },
     "metadata": {
      "needs_background": "light"
     },
     "output_type": "display_data"
    }
   ],
   "source": [
    "log_reg_sm = LogisticRegression(random_state=random_state)\n",
    "\n",
    "log_model_sm = log_reg.fit(X_train_sm_sc, y_train_sm)\n",
    "\n",
    "y_hat_log_sm = log_model_sm.predict_proba(X_test_sc)[:,1]\n",
    "\n",
    "y_pred_log_sm = log_model_sm.predict(X_test_sc)\n",
    "\n",
    "fpr,tpr,thr = roc_curve(y_test, y_hat_log_sm)\n",
    "\n",
    "sns.lineplot(fpr,tpr)\n",
    "\n",
    "auc(fpr, tpr)"
   ]
  },
  {
   "cell_type": "code",
   "execution_count": 34,
   "metadata": {},
   "outputs": [],
   "source": [
    "report = classification_report(y_test, y_pred_log_sm)"
   ]
  },
  {
   "cell_type": "code",
   "execution_count": 35,
   "metadata": {},
   "outputs": [
    {
     "name": "stdout",
     "output_type": "stream",
     "text": [
      "              precision    recall  f1-score   support\n",
      "\n",
      "           0       0.87      0.83      0.85      5839\n",
      "           1       0.49      0.58      0.53      1661\n",
      "\n",
      "    accuracy                           0.77      7500\n",
      "   macro avg       0.68      0.71      0.69      7500\n",
      "weighted avg       0.79      0.77      0.78      7500\n",
      "\n"
     ]
    }
   ],
   "source": [
    "print(report)"
   ]
  },
  {
   "cell_type": "markdown",
   "metadata": {},
   "source": [
    "So we sm."
   ]
  },
  {
   "cell_type": "markdown",
   "metadata": {},
   "source": [
    "## Beyond LogReg"
   ]
  },
  {
   "cell_type": "markdown",
   "metadata": {},
   "source": [
    "### SVC - Easy as do re mi"
   ]
  },
  {
   "cell_type": "code",
   "execution_count": 36,
   "metadata": {},
   "outputs": [],
   "source": [
    "svc_simp = SVC(probability=True, random_state=random_state, gamma ='auto')"
   ]
  },
  {
   "cell_type": "code",
   "execution_count": null,
   "metadata": {},
   "outputs": [],
   "source": [
    "svc_simp.fit(X_train_sm_sc, y_train_sm)"
   ]
  },
  {
   "cell_type": "code",
   "execution_count": null,
   "metadata": {},
   "outputs": [],
   "source": [
    "y_hat_svc_simp_prob = svc_simp.predict_proba(X_test_sm_sc)[:,1]"
   ]
  },
  {
   "cell_type": "code",
   "execution_count": null,
   "metadata": {},
   "outputs": [],
   "source": [
    "fpr_svc_simp_prob, tpr_svc_simp_prob, thr_svc_simp_prob = roc_curve(y_test, y_hat_svc_simp_prob)\n",
    "sns.lineplot(fpr_svc_simp_prob, tpr_svc_simp_prob)\n",
    "print('auc : {}, f1 score: {}'.format(auc(fpr_svc_simp_prob, tpr_svc_simp_prob), f1_score(y_test, svc_simp.predict(X_test_sm_sc))))"
   ]
  },
  {
   "cell_type": "markdown",
   "metadata": {},
   "source": [
    "We have an AUC of 0.73 which is acceptable but no better than a simple logistic model, while being much more computationally expensive. We will then see if using the SVC's class weight argument to balance our samples is more effective than our beSMOTEn data. "
   ]
  },
  {
   "cell_type": "code",
   "execution_count": null,
   "metadata": {},
   "outputs": [],
   "source": [
    "# Use weight balancing instead of SMOTE \n",
    "svc_simp_bal = SVC(probability=True, random_state=random_state, gamma ='auto', class_weight='balanced')"
   ]
  },
  {
   "cell_type": "code",
   "execution_count": null,
   "metadata": {},
   "outputs": [],
   "source": [
    "svc_simp_bal.fit(X_train_sc, y_train)"
   ]
  },
  {
   "cell_type": "code",
   "execution_count": null,
   "metadata": {},
   "outputs": [],
   "source": [
    "y_hat_svc_simp_bal_prob = svc_simp_bal.predict_proba(X_test_sc)[:,1]"
   ]
  },
  {
   "cell_type": "code",
   "execution_count": null,
   "metadata": {},
   "outputs": [],
   "source": [
    "fpr_svc_simp_bal_prob, tpr_svc_simp_bal_prob, thr_svc_simp_bal_prob = roc_curve(y_test, y_hat_svc_simp_bal_prob)\n",
    "sns.lineplot(fpr_svc_simp_bal_prob, tpr_svc_simp_bal_prob)\n",
    "print('auc : {}, f1 score: {}'.format(auc(fpr_svc_simp_bal_prob, tpr_svc_simp_bal_prob), f1_score(y_test, svc_simp_bal.predict(X_test_sc))))"
   ]
  },
  {
   "cell_type": "markdown",
   "metadata": {},
   "source": [
    "So we have an AUC of 0.77, using the inbuilt class balancing, which is indeed more effective than just SMOTE. However as above, this method has been very time consuming."
   ]
  },
  {
   "cell_type": "code",
   "execution_count": null,
   "metadata": {},
   "outputs": [],
   "source": [
    "# Using balanced weight and SMOTE\n",
    "svc_simp_bal_sm = SVC(probability=True, random_state=random_state, gamma ='auto', class_weight='balanced')"
   ]
  },
  {
   "cell_type": "code",
   "execution_count": null,
   "metadata": {},
   "outputs": [],
   "source": [
    "svc_simp_bal_sm.fit(X_train_sm_sc, y_train_sm)"
   ]
  },
  {
   "cell_type": "code",
   "execution_count": null,
   "metadata": {},
   "outputs": [],
   "source": [
    "y_hat_svc_simp_bal_sm_prob = svc_simp_bal_sm.predict_proba(X_test_sc)[:,1]"
   ]
  },
  {
   "cell_type": "code",
   "execution_count": null,
   "metadata": {},
   "outputs": [],
   "source": [
    "fpr_svc_simp_bal_sm_prob, tpr_svc_simp_bal_sm_prob, thr_svc_simp_bal_sm_prob = roc_curve(y_test, y_hat_svc_simp_bal_sm_prob)\n",
    "sns.lineplot(fpr_svc_simp_bal_sm_prob, tpr_svc_simp_bal_sm_prob)\n",
    "print('auc : {}, f1 score: {}'.format(auc(fpr_svc_simp_bal_sm_prob, tpr_svc_simp_bal_sm_prob), f1_score(y_test, svc_simp_bal_sm.predict(X_test_sm_sc))))"
   ]
  },
  {
   "cell_type": "markdown",
   "metadata": {},
   "source": [
    "Balanced weights AND SMOTE together combine to perform exactly the same as just SMOTE on its own, so we won't be using this model now shall we. "
   ]
  },
  {
   "cell_type": "code",
   "execution_count": null,
   "metadata": {},
   "outputs": [],
   "source": [
    "svc_rbf = SVC(probability=True, random_state=random_state, class_weight='balanced', max_iter=30)"
   ]
  },
  {
   "cell_type": "code",
   "execution_count": null,
   "metadata": {},
   "outputs": [],
   "source": [
    "C_range = np.array([0.1, 1, 10])\n",
    "gamma_range = np.array([0.1, 1, 100])\n",
    "param_grid_svc = dict(gamma=gamma_range, C=C_range)"
   ]
  },
  {
   "cell_type": "code",
   "execution_count": null,
   "metadata": {
    "jupyter": {
     "outputs_hidden": true
    }
   },
   "outputs": [],
   "source": [
    "opt_model_svc_rbf = GridSearchCV(svc_rbf, param_grid_svc, cv=10 ,scoring='roc_auc')\n",
    "opt_model_svc_rbf.fit(X_train_sc, y_train)\n",
    "best_model_svc_rbf = opt_model_svc_rbf.best_estimator_"
   ]
  },
  {
   "cell_type": "code",
   "execution_count": null,
   "metadata": {},
   "outputs": [],
   "source": [
    "opt_model_svc_rbf.best_params_"
   ]
  },
  {
   "cell_type": "code",
   "execution_count": null,
   "metadata": {},
   "outputs": [],
   "source": [
    "y_hat_svc_rbf = opt_model_svc_rbf.predict_proba(X_test_sc)[:, 1]"
   ]
  },
  {
   "cell_type": "code",
   "execution_count": null,
   "metadata": {},
   "outputs": [],
   "source": [
    "fpr_rbf, tpr_rbf, thr_rbf = roc_curve(y_test, y_hat_svc_rbf)\n",
    "sns.lineplot(tpr_rbf, fpr_rbf)\n",
    "auc(tpr_rbf, fpr_rbf)"
   ]
  },
  {
   "cell_type": "markdown",
   "metadata": {},
   "source": [
    "The GridCV took too long so we reduced the number of iterations to 30, however this meant that the model failed to converge on a consensus. We ended up with a model with an AUC of 0.68, which is worse than any previous model. However given time and more compute a better model may be found upon convergence."
   ]
  },
  {
   "cell_type": "markdown",
   "metadata": {},
   "source": [
    "### KNN"
   ]
  },
  {
   "cell_type": "code",
   "execution_count": null,
   "metadata": {},
   "outputs": [],
   "source": [
    "knn = KNeighborsClassifier(n_neighbors=1) #baseline\n",
    "knn.fit(X_train_sm_sc, y_train_sm)\n",
    "\n",
    "knn_probs = knn.predict_proba(X_test_sm_sc)[:,1]\n",
    "\n",
    "roc_auc_score(y_test, knn_probs)"
   ]
  },
  {
   "cell_type": "markdown",
   "metadata": {},
   "source": [
    "Our baseline KNN using only one nearest neighbor has very poor performance with a ROC AUC performance of 0.60, though this is to be expected only inspect one neighbor is very insensitive to patterns within the data. "
   ]
  },
  {
   "cell_type": "code",
   "execution_count": null,
   "metadata": {},
   "outputs": [],
   "source": [
    "knn_grid = KNeighborsClassifier(n_jobs=-1)\n",
    "\n",
    "# param_grid_knn = {\n",
    "#     'n_neighbors':range(4, 10),\n",
    "#     'weights':['uniform', 'distance'], \n",
    "#     'p':range(5,8)\n",
    "# }\n",
    "\n",
    "# opt_model_knn = GridSearchCV(knn_grid, param_grid_knn, cv=5, scoring='roc_auc')\n",
    "# opt_model_knn.fit(X_train_sm_sc, y_train_sm)\n",
    "# best_model_knn = opt_model_knn.best_estimator_\n",
    "\n",
    "# opt_model_knn.best_params_"
   ]
  },
  {
   "cell_type": "code",
   "execution_count": null,
   "metadata": {},
   "outputs": [],
   "source": [
    "knn_grid_probs = best_model_knn.predict_proba(X_test_sm_sc)[:,1]\n",
    "roc_auc_score(y_test, knn_grid_probs)"
   ]
  },
  {
   "cell_type": "markdown",
   "metadata": {},
   "source": [
    "The best KNN model resultant from our grid search looked at the 7 nearest neighbors, and used a Minkowski distance metric of degree 6, and with a weighting of neighbors based on their relative distance. The increase in performance was considerable, however although the KNN model is computationally less intensive than SVC, the AUC of 0.70 is not enough to warrant its use."
   ]
  },
  {
   "cell_type": "markdown",
   "metadata": {},
   "source": [
    "### Random Forest"
   ]
  },
  {
   "cell_type": "code",
   "execution_count": null,
   "metadata": {},
   "outputs": [],
   "source": [
    "random_forest = RandomForestClassifier(n_estimators=100)"
   ]
  },
  {
   "cell_type": "code",
   "execution_count": null,
   "metadata": {},
   "outputs": [],
   "source": [
    "random_forest.fit(X_train_sm_sc, y_train_sm)\n",
    "\n",
    "forest_probs = random_forest.predict_proba(X_test_sm_sc)[:,1]\n",
    "\n",
    "roc_auc_score(y_test, forest_probs)"
   ]
  },
  {
   "cell_type": "markdown",
   "metadata": {},
   "source": [
    "The baseline random forest model performs remarkably well considering we haven't tweaked any parameter. It has an AUC of 0.74. We will now perform a grid search on parameters to find an optimal model."
   ]
  },
  {
   "cell_type": "code",
   "execution_count": null,
   "metadata": {},
   "outputs": [],
   "source": [
    "# random_forest_grid = {\n",
    "#     'max_depth':range(8, 12+1),\n",
    "#     'min_samples_leaf':[10,15,20]\n",
    "# }\n",
    "\n",
    "# opt_model_rf = GridSearchCV(random_forest, random_forest_grid, cv=5 ,scoring='roc_auc')\n",
    "# opt_model_rf.fit(X_train_sm_sc, y_train_sm)\n"
   ]
  },
  {
   "cell_type": "markdown",
   "metadata": {},
   "source": [
    "N.B. These models are computationally costly, and should only be run if you have time, we have saved the optimal model parameters to run a simpler model in the name of time. "
   ]
  },
  {
   "cell_type": "code",
   "execution_count": 40,
   "metadata": {},
   "outputs": [
    {
     "data": {
      "text/plain": [
       "RandomForestClassifier(bootstrap=True, class_weight=None, criterion='gini',\n",
       "                       max_depth=12, max_features='auto', max_leaf_nodes=None,\n",
       "                       min_impurity_decrease=0.0, min_impurity_split=None,\n",
       "                       min_samples_leaf=10, min_samples_split=2,\n",
       "                       min_weight_fraction_leaf=0.0, n_estimators=100,\n",
       "                       n_jobs=None, oob_score=False, random_state=None,\n",
       "                       verbose=0, warm_start=False)"
      ]
     },
     "execution_count": 40,
     "metadata": {},
     "output_type": "execute_result"
    }
   ],
   "source": [
    "best_forest = RandomForestClassifier(n_estimators=100, max_depth=12, min_samples_leaf=10)\n",
    "best_forest.fit(X_train_sm_sc, y_train_sm)"
   ]
  },
  {
   "cell_type": "code",
   "execution_count": 41,
   "metadata": {},
   "outputs": [
    {
     "data": {
      "text/plain": [
       "0.7799669415488598"
      ]
     },
     "execution_count": 41,
     "metadata": {},
     "output_type": "execute_result"
    }
   ],
   "source": [
    "best_forest_probs = best_forest.predict_proba(X_test_sm_sc)[:,1]\n",
    "\n",
    "roc_auc_score(y_test, best_forest_probs)"
   ]
  },
  {
   "cell_type": "markdown",
   "metadata": {},
   "source": [
    "Here is the first tree in the forest for you to get an idea of how it is making its decisions. "
   ]
  },
  {
   "cell_type": "code",
   "execution_count": null,
   "metadata": {},
   "outputs": [],
   "source": [
    "dot_forest_grid = StringIO()\n",
    "export_graphviz(best_model_rf[0], out_file=dot_forest_grid,  \n",
    "                filled=True, rounded=True,\n",
    "                special_characters=True, feature_names=X.columns)\n",
    "graph = pydotplus.graph_from_dot_data(dot_forest_grid.getvalue())  \n",
    "Image(graph.create_png())"
   ]
  },
  {
   "cell_type": "markdown",
   "metadata": {},
   "source": [
    "We found that random forest model with a maximum decision depth of 12, and a minimum samples for the leaves of 10 was the best performer out of all of our models with an AUC of 0.78. The maximum depth states that our model can split a given piece of data up to 12 times before classifying the data. The minimum leaf samples states that either the positive or negative class must have a minimum of 10 samples, so that there is enough information to draw upon in order to make a decision.\n",
    "\n",
    "Now that we have our best performing model, we will set a probability threshold to make sure we are making as few costly misclassifications as possible. In our case, wrongly predicting that someone is going to default when in fact they are not might be of some annoyance for the customer. On the other hand, wrongly predicting that a customer isn't going to default, when in fact they are going to, could cost the business a lot of New Taiwanese Dollars in unrecovered debt. We therefore want to make a choice that errs in the favor of false positives rather than false negatives."
   ]
  },
  {
   "cell_type": "code",
   "execution_count": 84,
   "metadata": {
    "scrolled": true
   },
   "outputs": [
    {
     "data": {
      "image/png": "[encoded data removed]",
      "text/plain": [
       "<Figure size 432x288 with 2 Axes>"
      ]
     },
     "metadata": {
      "needs_background": "light"
     },
     "output_type": "display_data"
    }
   ],
   "source": [
    "threshold_5_preds, _ = lib.prediction_threshold(best_forest, X_test_sm_sc, threshold=0.5)\n",
    "cnf_matrix_5 = confusion_matrix(y_test, threshold_5_preds)\n",
    "lib.plot_matrix(cnf_matrix_5, class_names=['Not Defaults', 'Defaults'])"
   ]
  },
  {
   "cell_type": "markdown",
   "metadata": {},
   "source": [
    "We have started with a default threshold value of 0.5, meaning that half of the trees have to vote for positively for a positive classification. We can tweak this threshold to reflect the greater cost of a false negative. We will produce a curve to demonstrate how changing the threshold results in differing levels of false positives vs. false negatives."
   ]
  },
  {
   "cell_type": "code",
   "execution_count": 68,
   "metadata": {},
   "outputs": [],
   "source": [
    "ratio =[]\n",
    "for i in np.linspace(0.2,0.9,100):\n",
    "    var_thrsh_preds, _ = lib.prediction_threshold(best_forest, X_test_sm_sc, threshold=i)\n",
    "    cnf_matrix_var = confusion_matrix(y_test, var_thrsh_preds)\n",
    "    ratio.append(cnf_matrix_var[0][1]/cnf_matrix_var[1][0])\n",
    "    "
   ]
  },
  {
   "cell_type": "code",
   "execution_count": 83,
   "metadata": {},
   "outputs": [
    {
     "data": {
      "text/plain": [
       "Text(0.5, 1.0, 'Threshold effects on false prediction ratio')"
      ]
     },
     "execution_count": 83,
     "metadata": {},
     "output_type": "execute_result"
    },
    {
     "data": {
      "image/png": "[encoded data removed]",
      "text/plain": [
       "<Figure size 432x288 with 1 Axes>"
      ]
     },
     "metadata": {
      "needs_background": "light"
     },
     "output_type": "display_data"
    }
   ],
   "source": [
    "sns.lineplot(y = np.linspace(0.05,0.9,100), x=ratio)\n",
    "plt.xlabel('No. False Positives per False Negatives')\n",
    "plt.ylabel('Threshold')\n",
    "plt.title('Threshold effects on false prediction ratio')"
   ]
  },
  {
   "cell_type": "markdown",
   "metadata": {},
   "source": [
    "Let's say that we estimate that wrongly assuming someone is not going to default is 3 times more costly than wrongly assuming someone is going to default. We find point 3 on the x axis, and read off the ideal threshold of around **0.1**. "
   ]
  },
  {
   "cell_type": "markdown",
   "metadata": {},
   "source": [
    "We can also conceptualize this tradeoff in terms of precision and recall, precision will tell us how many of our positives a correctly classified, whereas recall will give us an idea of the direct relationship between our correctly classified positives against our falsely classified negatives. We want to err more on the side of higher recall, at the cost of higher precision."
   ]
  },
  {
   "cell_type": "code",
   "execution_count": 89,
   "metadata": {},
   "outputs": [],
   "source": [
    "precision, recall, thresholds = precision_recall_curve(y_test, best_forest_probs)"
   ]
  },
  {
   "cell_type": "code",
   "execution_count": 91,
   "metadata": {},
   "outputs": [
    {
     "data": {
      "image/png": "[encoded data removed]",
      "text/plain": [
       "<Figure size 432x288 with 1 Axes>"
      ]
     },
     "metadata": {
      "needs_background": "light"
     },
     "output_type": "display_data"
    }
   ],
   "source": [
    "lib.plot_precision_recall_threshold(precision, recall, thresholds)"
   ]
  },
  {
   "cell_type": "markdown",
   "metadata": {},
   "source": [
    "We've chosen a threshold of 0.2, which may seem conservative but gives us sufficient recall without completely sacrificing our precision."
   ]
  },
  {
   "cell_type": "code",
   "execution_count": 97,
   "metadata": {},
   "outputs": [
    {
     "ename": "NameError",
     "evalue": "name 'ticker' is not defined",
     "output_type": "error",
     "traceback": [
      "\u001b[0;31m---------------------------------------------------------------------------\u001b[0m",
      "\u001b[0;31mNameError\u001b[0m                                 Traceback (most recent call last)",
      "\u001b[0;32m<ipython-input-97-cd218421c82b>\u001b[0m in \u001b[0;36m<module>\u001b[0;34m\u001b[0m\n\u001b[1;32m      1\u001b[0m \u001b[0mthreshold_2_preds\u001b[0m\u001b[0;34m,\u001b[0m \u001b[0m_\u001b[0m \u001b[0;34m=\u001b[0m \u001b[0mlib\u001b[0m\u001b[0;34m.\u001b[0m\u001b[0mprediction_threshold\u001b[0m\u001b[0;34m(\u001b[0m\u001b[0mbest_forest\u001b[0m\u001b[0;34m,\u001b[0m \u001b[0mX_test_sm_sc\u001b[0m\u001b[0;34m,\u001b[0m \u001b[0mthreshold\u001b[0m\u001b[0;34m=\u001b[0m\u001b[0;36m0.2\u001b[0m\u001b[0;34m)\u001b[0m\u001b[0;34m\u001b[0m\u001b[0;34m\u001b[0m\u001b[0m\n\u001b[1;32m      2\u001b[0m \u001b[0mcnf_matrix_2\u001b[0m \u001b[0;34m=\u001b[0m \u001b[0mconfusion_matrix\u001b[0m\u001b[0;34m(\u001b[0m\u001b[0my_test\u001b[0m\u001b[0;34m,\u001b[0m \u001b[0mthreshold_2_preds\u001b[0m\u001b[0;34m)\u001b[0m\u001b[0;34m\u001b[0m\u001b[0;34m\u001b[0m\u001b[0m\n\u001b[0;32m----> 3\u001b[0;31m \u001b[0mlib\u001b[0m\u001b[0;34m.\u001b[0m\u001b[0mplot_matrix\u001b[0m\u001b[0;34m(\u001b[0m\u001b[0mcnf_matrix_2\u001b[0m\u001b[0;34m,\u001b[0m \u001b[0mclass_names\u001b[0m\u001b[0;34m=\u001b[0m\u001b[0;34m[\u001b[0m\u001b[0;34m'Not Defaults'\u001b[0m\u001b[0;34m,\u001b[0m \u001b[0;34m'Defaults'\u001b[0m\u001b[0;34m]\u001b[0m\u001b[0;34m)\u001b[0m\u001b[0;34m\u001b[0m\u001b[0;34m\u001b[0m\u001b[0m\n\u001b[0m",
      "\u001b[0;32m~/Documents/Coding/Flatiron_DSC/london-ds-100719/Default-Detection/library.py\u001b[0m in \u001b[0;36mplot_matrix\u001b[0;34m(cnf_matrix, class_names)\u001b[0m\n\u001b[1;32m     42\u001b[0m     \u001b[0mplt\u001b[0m\u001b[0;34m.\u001b[0m\u001b[0mylabel\u001b[0m\u001b[0;34m(\u001b[0m\u001b[0;34m'Actual label'\u001b[0m\u001b[0;34m)\u001b[0m\u001b[0;34m\u001b[0m\u001b[0;34m\u001b[0m\u001b[0m\n\u001b[1;32m     43\u001b[0m     \u001b[0mplt\u001b[0m\u001b[0;34m.\u001b[0m\u001b[0mxlabel\u001b[0m\u001b[0;34m(\u001b[0m\u001b[0;34m'Predicted label'\u001b[0m\u001b[0;34m)\u001b[0m\u001b[0;34m\u001b[0m\u001b[0;34m\u001b[0m\u001b[0m\n\u001b[0;32m---> 44\u001b[0;31m     \u001b[0max\u001b[0m\u001b[0;34m.\u001b[0m\u001b[0myaxis\u001b[0m\u001b[0;34m.\u001b[0m\u001b[0mset_major_locator\u001b[0m\u001b[0;34m(\u001b[0m\u001b[0mticker\u001b[0m\u001b[0;34m.\u001b[0m\u001b[0mIndexLocator\u001b[0m\u001b[0;34m(\u001b[0m\u001b[0mbase\u001b[0m\u001b[0;34m=\u001b[0m\u001b[0;36m1\u001b[0m\u001b[0;34m,\u001b[0m \u001b[0moffset\u001b[0m\u001b[0;34m=\u001b[0m\u001b[0;36m0.5\u001b[0m\u001b[0;34m)\u001b[0m\u001b[0;34m)\u001b[0m\u001b[0;34m\u001b[0m\u001b[0;34m\u001b[0m\u001b[0m\n\u001b[0m\u001b[1;32m     45\u001b[0m \u001b[0;34m\u001b[0m\u001b[0m\n\u001b[1;32m     46\u001b[0m \u001b[0;32mdef\u001b[0m \u001b[0mplot_precision_recall_threshold\u001b[0m\u001b[0;34m(\u001b[0m\u001b[0mprecision\u001b[0m\u001b[0;34m,\u001b[0m \u001b[0mrecall\u001b[0m\u001b[0;34m,\u001b[0m \u001b[0mthresholds\u001b[0m\u001b[0;34m)\u001b[0m\u001b[0;34m:\u001b[0m\u001b[0;34m\u001b[0m\u001b[0;34m\u001b[0m\u001b[0m\n",
      "\u001b[0;31mNameError\u001b[0m: name 'ticker' is not defined"
     ]
    },
    {
     "data": {
      "image/png": "[encoded data removed]",
      "text/plain": [
       "<Figure size 432x288 with 2 Axes>"
      ]
     },
     "metadata": {
      "needs_background": "light"
     },
     "output_type": "display_data"
    }
   ],
   "source": [
    "threshold_2_preds, _ = lib.prediction_threshold(best_forest, X_test_sm_sc, threshold=0.2)\n",
    "cnf_matrix_2 = confusion_matrix(y_test, threshold_2_preds)\n",
    "lib.plot_matrix(cnf_matrix_2, class_names=['Not Defaults', 'Defaults'])\n"
   ]
  },
  {
   "cell_type": "code",
   "execution_count": null,
   "metadata": {},
   "outputs": [],
   "source": []
  }
 ],
 "metadata": {
  "kernelspec": {
   "display_name": "Python 3",
   "language": "python",
   "name": "python3"
  },
  "language_info": {
   "codemirror_mode": {
    "name": "ipython",
    "version": 3
   },
   "file_extension": ".py",
   "mimetype": "text/x-python",
   "name": "python",
   "nbconvert_exporter": "python",
   "pygments_lexer": "ipython3",
   "version": "3.6.9"
  }
 },
 "nbformat": 4,
 "nbformat_minor": 4
}
